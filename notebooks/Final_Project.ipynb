{
  "nbformat": 4,
  "nbformat_minor": 0,
  "metadata": {
    "colab": {
      "name": "Final_Project.ipynb",
      "provenance": [],
      "collapsed_sections": [
        "Jii-P5wX0UAK",
        "r1vyZm655qQX",
        "mMq9qA_R580I",
        "Yawubq0_6BZi",
        "vsnos-bV6EoO",
        "0HmxAh356dVI",
        "mj_pAz56MW5N",
        "DhDKZAeYMkzC",
        "gqGEw53DMsR0",
        "mPqiyL_jMyta"
      ]
    },
    "kernelspec": {
      "name": "python3",
      "display_name": "Python 3"
    },
    "language_info": {
      "name": "python"
    },
    "accelerator": "GPU"
  },
  "cells": [
    {
      "cell_type": "markdown",
      "metadata": {
        "id": "nnxSUGDk0NUF"
      },
      "source": [
        "### References and Opensource Code:\n",
        "\n",
        "### **Foveation**:\n",
        "\n",
        "Implementation of the foveation method is obtained from this github [repository](https://github.com/ouyangzhibo/Image_Foveation_Python) \n",
        "\n",
        "Algorithm is replicated from the  following papers:\n",
        "\n",
        "[Paper1:](http://svi.cps.utexas.edu/EI466209.pdf): Gaze-contingent real-time simulation of arbitrary visual fields\n",
        "\n",
        "[Paper2:](https://openaccess.thecvf.com/content_cvpr_2015/papers/Jiang_SALICON_Saliency_in_2015_CVPR_paper.pdf)\n",
        "Salicon: Saliency in context\n",
        "\n",
        "### **Object detection**:\n",
        "[Face Detection using Haar Cascades](https://docs.opencv.org/3.4.3/d7/d8b/tutorial_py_face_detection.html) from OpenCV\n",
        "\n",
        "[Original Paper](https://ieeexplore.ieee.org/stamp/stamp.jsp?tp=&arnumber=990517&tag=1) for Haar Cascades\n",
        "\n",
        "\n",
        "### **Optical flow(flownet)**:\n",
        "[Flownet](https://towardsdatascience.com/a-brief-review-of-flownet-dca6bd574de0) from ml4a models\n",
        "\n",
        "[Original Paper](https://arxiv.org/pdf/1504.06852.pdf) for Flownet"
      ]
    },
    {
      "cell_type": "markdown",
      "metadata": {
        "id": "Jii-P5wX0UAK"
      },
      "source": [
        "### Imports and Installations"
      ]
    },
    {
      "cell_type": "code",
      "metadata": {
        "id": "HnejnQOrvvQ_",
        "colab": {
          "base_uri": "https://localhost:8080/"
        },
        "outputId": "8dfe4115-157f-4768-e01e-51057351873f"
      },
      "source": [
        "!pip3 install --quiet ml4a"
      ],
      "execution_count": null,
      "outputs": [
        {
          "output_type": "stream",
          "name": "stdout",
          "text": [
            "\u001b[?25l\r\u001b[K     |▎                               | 10 kB 24.1 MB/s eta 0:00:01\r\u001b[K     |▋                               | 20 kB 26.4 MB/s eta 0:00:01\r\u001b[K     |█                               | 30 kB 11.4 MB/s eta 0:00:01\r\u001b[K     |█▏                              | 40 kB 8.8 MB/s eta 0:00:01\r\u001b[K     |█▌                              | 51 kB 5.3 MB/s eta 0:00:01\r\u001b[K     |█▉                              | 61 kB 5.8 MB/s eta 0:00:01\r\u001b[K     |██                              | 71 kB 5.6 MB/s eta 0:00:01\r\u001b[K     |██▍                             | 81 kB 6.3 MB/s eta 0:00:01\r\u001b[K     |██▊                             | 92 kB 4.9 MB/s eta 0:00:01\r\u001b[K     |███                             | 102 kB 5.2 MB/s eta 0:00:01\r\u001b[K     |███▎                            | 112 kB 5.2 MB/s eta 0:00:01\r\u001b[K     |███▋                            | 122 kB 5.2 MB/s eta 0:00:01\r\u001b[K     |███▉                            | 133 kB 5.2 MB/s eta 0:00:01\r\u001b[K     |████▏                           | 143 kB 5.2 MB/s eta 0:00:01\r\u001b[K     |████▌                           | 153 kB 5.2 MB/s eta 0:00:01\r\u001b[K     |████▊                           | 163 kB 5.2 MB/s eta 0:00:01\r\u001b[K     |█████                           | 174 kB 5.2 MB/s eta 0:00:01\r\u001b[K     |█████▍                          | 184 kB 5.2 MB/s eta 0:00:01\r\u001b[K     |█████▋                          | 194 kB 5.2 MB/s eta 0:00:01\r\u001b[K     |██████                          | 204 kB 5.2 MB/s eta 0:00:01\r\u001b[K     |██████▎                         | 215 kB 5.2 MB/s eta 0:00:01\r\u001b[K     |██████▌                         | 225 kB 5.2 MB/s eta 0:00:01\r\u001b[K     |██████▉                         | 235 kB 5.2 MB/s eta 0:00:01\r\u001b[K     |███████▏                        | 245 kB 5.2 MB/s eta 0:00:01\r\u001b[K     |███████▍                        | 256 kB 5.2 MB/s eta 0:00:01\r\u001b[K     |███████▊                        | 266 kB 5.2 MB/s eta 0:00:01\r\u001b[K     |████████                        | 276 kB 5.2 MB/s eta 0:00:01\r\u001b[K     |████████▎                       | 286 kB 5.2 MB/s eta 0:00:01\r\u001b[K     |████████▋                       | 296 kB 5.2 MB/s eta 0:00:01\r\u001b[K     |█████████                       | 307 kB 5.2 MB/s eta 0:00:01\r\u001b[K     |█████████▏                      | 317 kB 5.2 MB/s eta 0:00:01\r\u001b[K     |█████████▌                      | 327 kB 5.2 MB/s eta 0:00:01\r\u001b[K     |█████████▉                      | 337 kB 5.2 MB/s eta 0:00:01\r\u001b[K     |██████████                      | 348 kB 5.2 MB/s eta 0:00:01\r\u001b[K     |██████████▍                     | 358 kB 5.2 MB/s eta 0:00:01\r\u001b[K     |██████████▊                     | 368 kB 5.2 MB/s eta 0:00:01\r\u001b[K     |███████████                     | 378 kB 5.2 MB/s eta 0:00:01\r\u001b[K     |███████████▎                    | 389 kB 5.2 MB/s eta 0:00:01\r\u001b[K     |███████████▋                    | 399 kB 5.2 MB/s eta 0:00:01\r\u001b[K     |███████████▉                    | 409 kB 5.2 MB/s eta 0:00:01\r\u001b[K     |████████████▏                   | 419 kB 5.2 MB/s eta 0:00:01\r\u001b[K     |████████████▌                   | 430 kB 5.2 MB/s eta 0:00:01\r\u001b[K     |████████████▉                   | 440 kB 5.2 MB/s eta 0:00:01\r\u001b[K     |█████████████                   | 450 kB 5.2 MB/s eta 0:00:01\r\u001b[K     |█████████████▍                  | 460 kB 5.2 MB/s eta 0:00:01\r\u001b[K     |█████████████▊                  | 471 kB 5.2 MB/s eta 0:00:01\r\u001b[K     |██████████████                  | 481 kB 5.2 MB/s eta 0:00:01\r\u001b[K     |██████████████▎                 | 491 kB 5.2 MB/s eta 0:00:01\r\u001b[K     |██████████████▋                 | 501 kB 5.2 MB/s eta 0:00:01\r\u001b[K     |██████████████▉                 | 512 kB 5.2 MB/s eta 0:00:01\r\u001b[K     |███████████████▏                | 522 kB 5.2 MB/s eta 0:00:01\r\u001b[K     |███████████████▌                | 532 kB 5.2 MB/s eta 0:00:01\r\u001b[K     |███████████████▊                | 542 kB 5.2 MB/s eta 0:00:01\r\u001b[K     |████████████████                | 552 kB 5.2 MB/s eta 0:00:01\r\u001b[K     |████████████████▍               | 563 kB 5.2 MB/s eta 0:00:01\r\u001b[K     |████████████████▋               | 573 kB 5.2 MB/s eta 0:00:01\r\u001b[K     |█████████████████               | 583 kB 5.2 MB/s eta 0:00:01\r\u001b[K     |█████████████████▎              | 593 kB 5.2 MB/s eta 0:00:01\r\u001b[K     |█████████████████▌              | 604 kB 5.2 MB/s eta 0:00:01\r\u001b[K     |█████████████████▉              | 614 kB 5.2 MB/s eta 0:00:01\r\u001b[K     |██████████████████▏             | 624 kB 5.2 MB/s eta 0:00:01\r\u001b[K     |██████████████████▍             | 634 kB 5.2 MB/s eta 0:00:01\r\u001b[K     |██████████████████▊             | 645 kB 5.2 MB/s eta 0:00:01\r\u001b[K     |███████████████████             | 655 kB 5.2 MB/s eta 0:00:01\r\u001b[K     |███████████████████▎            | 665 kB 5.2 MB/s eta 0:00:01\r\u001b[K     |███████████████████▋            | 675 kB 5.2 MB/s eta 0:00:01\r\u001b[K     |████████████████████            | 686 kB 5.2 MB/s eta 0:00:01\r\u001b[K     |████████████████████▏           | 696 kB 5.2 MB/s eta 0:00:01\r\u001b[K     |████████████████████▌           | 706 kB 5.2 MB/s eta 0:00:01\r\u001b[K     |████████████████████▉           | 716 kB 5.2 MB/s eta 0:00:01\r\u001b[K     |█████████████████████           | 727 kB 5.2 MB/s eta 0:00:01\r\u001b[K     |█████████████████████▍          | 737 kB 5.2 MB/s eta 0:00:01\r\u001b[K     |█████████████████████▊          | 747 kB 5.2 MB/s eta 0:00:01\r\u001b[K     |██████████████████████          | 757 kB 5.2 MB/s eta 0:00:01\r\u001b[K     |██████████████████████▎         | 768 kB 5.2 MB/s eta 0:00:01\r\u001b[K     |██████████████████████▋         | 778 kB 5.2 MB/s eta 0:00:01\r\u001b[K     |██████████████████████▉         | 788 kB 5.2 MB/s eta 0:00:01\r\u001b[K     |███████████████████████▏        | 798 kB 5.2 MB/s eta 0:00:01\r\u001b[K     |███████████████████████▌        | 808 kB 5.2 MB/s eta 0:00:01\r\u001b[K     |███████████████████████▊        | 819 kB 5.2 MB/s eta 0:00:01\r\u001b[K     |████████████████████████        | 829 kB 5.2 MB/s eta 0:00:01\r\u001b[K     |████████████████████████▍       | 839 kB 5.2 MB/s eta 0:00:01\r\u001b[K     |████████████████████████▊       | 849 kB 5.2 MB/s eta 0:00:01\r\u001b[K     |█████████████████████████       | 860 kB 5.2 MB/s eta 0:00:01\r\u001b[K     |█████████████████████████▎      | 870 kB 5.2 MB/s eta 0:00:01\r\u001b[K     |█████████████████████████▋      | 880 kB 5.2 MB/s eta 0:00:01\r\u001b[K     |█████████████████████████▉      | 890 kB 5.2 MB/s eta 0:00:01\r\u001b[K     |██████████████████████████▏     | 901 kB 5.2 MB/s eta 0:00:01\r\u001b[K     |██████████████████████████▌     | 911 kB 5.2 MB/s eta 0:00:01\r\u001b[K     |██████████████████████████▊     | 921 kB 5.2 MB/s eta 0:00:01\r\u001b[K     |███████████████████████████     | 931 kB 5.2 MB/s eta 0:00:01\r\u001b[K     |███████████████████████████▍    | 942 kB 5.2 MB/s eta 0:00:01\r\u001b[K     |███████████████████████████▋    | 952 kB 5.2 MB/s eta 0:00:01\r\u001b[K     |████████████████████████████    | 962 kB 5.2 MB/s eta 0:00:01\r\u001b[K     |████████████████████████████▎   | 972 kB 5.2 MB/s eta 0:00:01\r\u001b[K     |████████████████████████████▌   | 983 kB 5.2 MB/s eta 0:00:01\r\u001b[K     |████████████████████████████▉   | 993 kB 5.2 MB/s eta 0:00:01\r\u001b[K     |█████████████████████████████▏  | 1.0 MB 5.2 MB/s eta 0:00:01\r\u001b[K     |█████████████████████████████▍  | 1.0 MB 5.2 MB/s eta 0:00:01\r\u001b[K     |█████████████████████████████▊  | 1.0 MB 5.2 MB/s eta 0:00:01\r\u001b[K     |██████████████████████████████  | 1.0 MB 5.2 MB/s eta 0:00:01\r\u001b[K     |██████████████████████████████▎ | 1.0 MB 5.2 MB/s eta 0:00:01\r\u001b[K     |██████████████████████████████▋ | 1.1 MB 5.2 MB/s eta 0:00:01\r\u001b[K     |███████████████████████████████ | 1.1 MB 5.2 MB/s eta 0:00:01\r\u001b[K     |███████████████████████████████▏| 1.1 MB 5.2 MB/s eta 0:00:01\r\u001b[K     |███████████████████████████████▌| 1.1 MB 5.2 MB/s eta 0:00:01\r\u001b[K     |███████████████████████████████▉| 1.1 MB 5.2 MB/s eta 0:00:01\r\u001b[K     |████████████████████████████████| 1.1 MB 5.2 MB/s \n",
            "\u001b[K     |████████████████████████████████| 132 kB 52.3 MB/s \n",
            "\u001b[K     |████████████████████████████████| 108 kB 42.8 MB/s \n",
            "\u001b[K     |████████████████████████████████| 235 kB 45.0 MB/s \n",
            "\u001b[K     |████████████████████████████████| 561 kB 39.0 MB/s \n",
            "\u001b[K     |██████████████████████████████  | 386.6 MB 1.3 MB/s eta 0:00:20"
          ]
        }
      ]
    },
    {
      "cell_type": "code",
      "metadata": {
        "id": "nw2L2vPEui1z"
      },
      "source": [
        "import matplotlib.pyplot as plt\n",
        "import numpy as np\n",
        "import math\n",
        "import cv2 as cv\n",
        "from ipywidgets import Video, Image\n",
        "import subprocess\n",
        "import os, glob, shutil\n",
        "from google.colab.patches import cv2_imshow\n",
        "from ml4a.canvas import canvas\n",
        "from ml4a.models import flownet\n",
        "from ml4a import image\n",
        "\n",
        "%matplotlib inline\n",
        "\n",
        "ORIG_FRAMEDIR = 'orig_frames'\n",
        "FOV_FRAMEDIR = 'fov_frames'"
      ],
      "execution_count": null,
      "outputs": []
    },
    {
      "cell_type": "code",
      "metadata": {
        "id": "tLi2wwhoSOx-"
      },
      "source": [
        "!wget -q --show-progress --no-check-certificate 'https://docs.google.com/uc?export=download&id=19gCZJZ-Y_fYrGpL752tXmiT2jLvk7Kc1' -O andy.mp4"
      ],
      "execution_count": null,
      "outputs": []
    },
    {
      "cell_type": "code",
      "metadata": {
        "id": "SJt-MW0f9YKh"
      },
      "source": [
        "# Uploading the xml file which contains the code for haarcascades face detection model.\n",
        "!wget https://raw.githubusercontent.com/opencv/opencv/master/data/haarcascades/haarcascade_frontalface_default.xml"
      ],
      "execution_count": null,
      "outputs": []
    },
    {
      "cell_type": "code",
      "metadata": {
        "id": "aV0e-tP1-EWF"
      },
      "source": [
        "# Test videos are uploaded from our github repo.\n",
        "!git clone https://github.com/Prime-Nemesis/IVP-PROJECT-TEAM15.git"
      ],
      "execution_count": null,
      "outputs": []
    },
    {
      "cell_type": "markdown",
      "metadata": {
        "id": "r1vyZm655qQX"
      },
      "source": [
        "### Utility Functions"
      ]
    },
    {
      "cell_type": "code",
      "metadata": {
        "id": "IjOU36YTv0oB"
      },
      "source": [
        "# function to plot images side by side\n",
        "def show_pair_sidebyside(im1, im2, title1, title2):\n",
        "  _, ax = plt.subplots(1,2)\n",
        "  ax[0].title.set_text(title1)\n",
        "  ax[0].imshow(im1, cmap='gray')\n",
        "  ax[1].title.set_text(title2)\n",
        "  ax[1].imshow(im2, cmap='gray'); plt.show()"
      ],
      "execution_count": null,
      "outputs": []
    },
    {
      "cell_type": "code",
      "metadata": {
        "id": "av40Cuty9UX2"
      },
      "source": [
        "def draw_boxes(boxes, image, color):\n",
        "    image = cv.cvtColor(np.asarray(image), cv.COLOR_BGR2RGB)\n",
        "    for i, box in enumerate(boxes):\n",
        "        cv.rectangle(\n",
        "            image,\n",
        "            (int(box[0]), int(box[1])),\n",
        "            (int(box[2]), int(box[3])),\n",
        "            color, 2\n",
        "        )\n",
        "    return image"
      ],
      "execution_count": null,
      "outputs": []
    },
    {
      "cell_type": "code",
      "metadata": {
        "id": "DU1PIISg1Qb0"
      },
      "source": [
        "def pre_cleandirs():\n",
        "  if os.path.exists(ORIG_FRAMEDIR):\n",
        "      shutil.rmtree(ORIG_FRAMEDIR)\n",
        "  if os.path.exists(FOV_FRAMEDIR):\n",
        "      shutil.rmtree(FOV_FRAMEDIR)\n",
        "  os.mkdir(ORIG_FRAMEDIR)\n",
        "  os.mkdir(FOV_FRAMEDIR)"
      ],
      "execution_count": null,
      "outputs": []
    },
    {
      "cell_type": "code",
      "metadata": {
        "id": "gX7niCjO-fLg"
      },
      "source": [
        "def generate_video(frames_dir, video_path, fps):\n",
        "    if os.path.exists(f'{video_path}'):\n",
        "      os.remove(f'{video_path}')\n",
        "\n",
        "    subprocess.call([\n",
        "        'ffmpeg', '-framerate', f'{fps}', '-i', f'./{frames_dir}/frame%d.png', '-r', '30', '-pix_fmt', 'yuv420p',\n",
        "        f'{video_path}'\n",
        "    ])\n"
      ],
      "execution_count": null,
      "outputs": []
    },
    {
      "cell_type": "code",
      "metadata": {
        "id": "ZS_TjCGMvuBJ"
      },
      "source": [
        "def get_box_centre(box):\n",
        "  return [(box[0]+box[2])/2,(box[1]+box[3])/2]\n",
        "  \n",
        "def get_center(im):\n",
        "  xc, yc = int(im.shape[1]/2), int(im.shape[0]/2)\n",
        "\n",
        "  return (xc, yc)"
      ],
      "execution_count": null,
      "outputs": []
    },
    {
      "cell_type": "markdown",
      "metadata": {
        "id": "IruGgRQm69Gp"
      },
      "source": [
        "**Avg video velocity is defined and computed as the avg flow of all the frames in the video**"
      ]
    },
    {
      "cell_type": "code",
      "metadata": {
        "id": "wKjNGJlgZ4RG"
      },
      "source": [
        "def avg_video_velocity(orig_video_path: str) -> float:\n",
        "  '''\n",
        "  computes the velocity of the video(in pixels/frame) by \n",
        "  considering the object of interest.\n",
        "  '''\n",
        "  cap = cv.VideoCapture(orig_video_path)\n",
        "\n",
        "  fin_velocity = 0 #  final velocity of the video that's returned\n",
        "  part_velocity = 0 # its the sum of velocities of key no.of frames\n",
        "  ret,frame = cap.read()\n",
        "  prev_orig_frame = []\n",
        "  bound_box = []\n",
        "  \n",
        "  n = 0\n",
        "  while ret:\n",
        "    ret,frame = cap.read()\n",
        "    if n>0 and ret:\n",
        "      flow = flownet.run(frame, prev_orig_frame)           # blurring the flow reduces any high-frequency noise in the raw flowmap\n",
        "      flow = flownet.blur(flow, blur_times=10)\n",
        "      fin_velocity += np.mean(np.abs(flow))\n",
        "    prev_orig_frame = frame\n",
        "    n+=1\n",
        "\n",
        "  return fin_velocity/n"
      ],
      "execution_count": null,
      "outputs": []
    },
    {
      "cell_type": "markdown",
      "metadata": {
        "id": "mMq9qA_R580I"
      },
      "source": [
        "### Foveation method"
      ]
    },
    {
      "cell_type": "code",
      "metadata": {
        "id": "OOQRzvunF9fv"
      },
      "source": [
        "def genGaussiankernel(width, sigma):\n",
        "    # gaussian weighting function is used to smoothen the image before downsampling\n",
        "    x = np.arange(-int(width/2), int(width/2)+1, 1, dtype=np.float32)\n",
        "    x2d, y2d = np.meshgrid(x, x)\n",
        "    kernel_2d = np.exp(-(x2d ** 2 + y2d ** 2) / (2 * sigma ** 2))\n",
        "    kernel_2d = kernel_2d / np.sum(kernel_2d)\n",
        "    return kernel_2d"
      ],
      "execution_count": null,
      "outputs": []
    },
    {
      "cell_type": "code",
      "metadata": {
        "id": "hN-yMTheGC26"
      },
      "source": [
        "def pyramid(im, sigma=1, prNum=6):\n",
        "    height_ori, width_ori, ch = im.shape\n",
        "    G = im.copy()\n",
        "    pyramids = [G]\n",
        "    \n",
        "    # gaussian blur\n",
        "    # using 5x5 kernel\n",
        "    Gaus_kernel2D = genGaussiankernel(5, sigma)\n",
        "    \n",
        "    # downsample\n",
        "    for i in range(1, prNum):\n",
        "        # smoothen the image to prevent sharp artifacts\n",
        "        G = cv.filter2D(G, -1, Gaus_kernel2D)\n",
        "        height, width, _ = G.shape\n",
        "        # down sample the image by half in both the dimensions\n",
        "        G = cv.resize(G, (int(width/2), int(height/2)))\n",
        "        pyramids.append(G)\n",
        "    \n",
        "    \n",
        "    # upsample ahead and store for the next stages\n",
        "    for i in range(1, 6):\n",
        "        curr_im = pyramids[i]\n",
        "        for j in range(i):\n",
        "            if j < i-1:\n",
        "                im_size = (curr_im.shape[1]*2, curr_im.shape[0]*2)\n",
        "            else:\n",
        "                im_size = (width_ori, height_ori)\n",
        "            curr_im = cv.resize(curr_im, im_size)\n",
        "            curr_im = cv.filter2D(curr_im, -1, Gaus_kernel2D)\n",
        "        pyramids[i] = curr_im\n",
        "\n",
        "    return pyramids"
      ],
      "execution_count": null,
      "outputs": []
    },
    {
      "cell_type": "code",
      "metadata": {
        "id": "4SHxgXnGuuPP"
      },
      "source": [
        "def foveat_img(im, fixs, alpha, p, k):\n",
        "    \"\"\"\n",
        "    im: input image\n",
        "    fixs: sequences of fixations of form [(x1, y1), (x2, y2), ...]\n",
        "    These fixation coordinates act as centers of foveations\n",
        "    \n",
        "    This function outputs the foveated image with given input image and fixations.\n",
        "    \"\"\"\n",
        "    sigma=0.248\n",
        "    prNum = 6\n",
        "    As = pyramid(im, sigma, prNum)\n",
        "    height, width, _ = im.shape\n",
        "    \n",
        "    # coeffs for foveations formulas\n",
        "\n",
        "    x = np.arange(0, width, 1, dtype=np.float32)\n",
        "    y = np.arange(0, height, 1, dtype=np.float32)\n",
        "    x2d, y2d = np.meshgrid(x, y)\n",
        "    theta = np.sqrt((x2d - fixs[0][0]) ** 2 + (y2d - fixs[0][1]) ** 2) / p\n",
        "    for fix in fixs[1:]:\n",
        "        theta = np.minimum(theta, np.sqrt((x2d - fix[0]) ** 2 + (y2d - fix[1]) ** 2) / p)\n",
        "\n",
        "    # resolution map    \n",
        "    R = alpha / (theta + alpha)\n",
        "    \n",
        "    # transfer function\n",
        "    Ts = []\n",
        "    for i in range(1, prNum):\n",
        "        Ts.append(np.exp(-((2 ** (i-3)) * R / sigma) ** 2 * k))\n",
        "    Ts.append(np.zeros_like(theta))\n",
        "\n",
        "    # omega\n",
        "    omega = np.zeros(prNum)\n",
        "    for i in range(1, prNum):\n",
        "        omega[i-1] = np.sqrt(np.log(2)/k) / (2**(i-3)) * sigma\n",
        "\n",
        "    omega[omega>1] = 1\n",
        "\n",
        "    # layer index\n",
        "    layer_ind = np.zeros_like(R)\n",
        "    for i in range(1, prNum):\n",
        "        ind = np.logical_and(R >= omega[i], R <= omega[i - 1])\n",
        "        layer_ind[ind] = i\n",
        "\n",
        "    # Blending function\n",
        "    Bs = []\n",
        "    for i in range(1, prNum):\n",
        "        Bs.append((0.5 - Ts[i]) / (Ts[i-1] - Ts[i] + 1e-5))\n",
        "\n",
        "    # Ms: final output layers\n",
        "    Ms = np.zeros((prNum, R.shape[0], R.shape[1]))\n",
        "\n",
        "    for i in range(prNum):\n",
        "        ind = layer_ind == i\n",
        "        if np.sum(ind) > 0:\n",
        "            if i == 0:\n",
        "                Ms[i][ind] = 1\n",
        "            else:\n",
        "                Ms[i][ind] = 1 - Bs[i-1][ind]\n",
        "\n",
        "        ind = layer_ind - 1 == i\n",
        "        if np.sum(ind) > 0:\n",
        "            Ms[i][ind] = Bs[i][ind]\n",
        "\n",
        "    #print('num of full-res pixel', np.sum(Ms[0] == 1))\n",
        "    # generate periphery image\n",
        "    im_fov = np.zeros_like(As[0], dtype=np.float32)\n",
        "    for M, A in zip(Ms, As):\n",
        "        for i in range(3):\n",
        "            im_fov[:, :, i] += np.multiply(M, A[:, :, i])\n",
        "\n",
        "    im_fov = im_fov.astype(np.uint8)\n",
        "    return im_fov"
      ],
      "execution_count": null,
      "outputs": []
    },
    {
      "cell_type": "markdown",
      "metadata": {
        "id": "Yawubq0_6BZi"
      },
      "source": [
        "### Object Detection"
      ]
    },
    {
      "cell_type": "code",
      "metadata": {
        "id": "-h0hw7mgDL_c"
      },
      "source": [
        "obj_detector = cv.CascadeClassifier('haarcascade_frontalface_default.xml')"
      ],
      "execution_count": null,
      "outputs": []
    },
    {
      "cell_type": "code",
      "metadata": {
        "id": "bXBhGs1lC1YE"
      },
      "source": [
        "def get_fixation_point(frame):\n",
        "\n",
        "  # perform face detection\n",
        "  bboxes = obj_detector.detectMultiScale(frame)\n",
        "  rng = np.random.default_rng(12)\n",
        "  color = rng.uniform(low=0, high=255, size=(3,))\n",
        "\n",
        "  if len(bboxes)!=0:\n",
        "    boxes = [(x,y,x+x2,y+y2) for (x,y,x2,y2) in bboxes]\n",
        "    return get_box_centre(boxes[0])\n",
        "\n",
        "  else:\n",
        "    return get_center(frame)\n"
      ],
      "execution_count": null,
      "outputs": []
    },
    {
      "cell_type": "markdown",
      "metadata": {
        "id": "vsnos-bV6EoO"
      },
      "source": [
        "### Implementation of Proposed approach"
      ]
    },
    {
      "cell_type": "code",
      "metadata": {
        "id": "e1xm7VSF_hFA"
      },
      "source": [
        "def foveated_video_processing(orig_video_path: str, key=5, visual_angle=1.5, pixel_density=7.5, k=3) -> str:\n",
        "    \"\"\"\n",
        "    Returns foveated video path after the processing\n",
        "\n",
        "    pixel_density: number of pixels a person can see in a degree of visual angle\n",
        "                          which can be changed to simulate different viewing distances\n",
        "    visual_angle: half-angle height means that when θ(x, y) = α the image will become only\n",
        "                         half the resolution of the center of attention (θ(x, y) = 0),\n",
        "                         where θ is the visual angel subtended by center of foveation\n",
        "    k: helper param for the transfer function in foveation\n",
        "    key: period by which the foveation is scheduled.\n",
        "\n",
        "    \"\"\"\n",
        "    pre_cleandirs()\n",
        "\n",
        "    cap = cv.VideoCapture(orig_video_path)\n",
        "    fps = cap.get(cv.CAP_PROP_FPS)\n",
        "    print(f'fps={fps}')\n",
        "    ret, frame = cap.read()\n",
        "\n",
        "    N_orig = 0\n",
        "    while ret:\n",
        "        cv.imwrite(f\"./{ORIG_FRAMEDIR}/frame%d.png\" % N_orig, frame)\n",
        "        ret, frame = cap.read()\n",
        "        N_orig = N_orig + 1\n",
        "\n",
        "    prev_orig_frame = []\n",
        "    prev_fov_frame = []\n",
        "\n",
        "    for i in range(N_orig):\n",
        "\n",
        "        frame = cv.imread(f\"./{ORIG_FRAMEDIR}/frame%d.png\" % i)\n",
        "\n",
        "        if i % key:\n",
        "\n",
        "            flow = flownet.run(frame,\n",
        "                               prev_orig_frame)\n",
        "            # blurring the flow reduces any high-frequency noise in the raw flow map\n",
        "            flow = flownet.blur(flow, blur_times=10)\n",
        "\n",
        "            map = flownet.flow_to_mapping(flow)\n",
        "            fov_frame = canvas.map_image(prev_fov_frame, map)\n",
        "\n",
        "        else:\n",
        "\n",
        "            (x, y) = get_fixation_point(frame)\n",
        "            fov_frame = foveat_img(frame, [(x, y)], visual_angle, pixel_density, k)\n",
        "\n",
        "        cv.imwrite(f\"./{FOV_FRAMEDIR}/frame%d.png\" % i, fov_frame)\n",
        "        prev_orig_frame = frame\n",
        "        prev_fov_frame = fov_frame\n",
        "\n",
        "        path_split = orig_video_path.split(\".\", 1)\n",
        "\n",
        "    fov_video_path = path_split[0] + '_fov.' + path_split[1]\n",
        "    generate_video(FOV_FRAMEDIR, fov_video_path, fps)\n",
        "\n",
        "    return fov_video_path"
      ],
      "execution_count": null,
      "outputs": []
    },
    {
      "cell_type": "markdown",
      "metadata": {
        "id": "0HmxAh356dVI"
      },
      "source": [
        "## Testing and Experimentaion"
      ]
    },
    {
      "cell_type": "code",
      "metadata": {
        "id": "hVP8Zu0oLl7_"
      },
      "source": [
        "# Original video path\n",
        "orig_video_path = 'andy.mp4'"
      ],
      "execution_count": null,
      "outputs": []
    },
    {
      "cell_type": "code",
      "metadata": {
        "id": "dKAB0UhsLvaZ"
      },
      "source": [
        "orig_video = Video.from_file(orig_video_path)\n",
        "orig_video"
      ],
      "execution_count": null,
      "outputs": []
    },
    {
      "cell_type": "code",
      "metadata": {
        "id": "wrimsCQSLQOd"
      },
      "source": [
        " # due to drastic change in zoom optical flow is causing some wrong approximation\n",
        "fov_video_path = foveated_video_processing(orig_video_path, key=3, visual_angle=2)\n",
        "fov_video = Video.from_file(fov_video_path)\n",
        "fov_video"
      ],
      "execution_count": null,
      "outputs": []
    },
    {
      "cell_type": "code",
      "metadata": {
        "id": "gvl42TJvok-Q"
      },
      "source": [
        "avg_video_velocity('andy.mp4')"
      ],
      "execution_count": null,
      "outputs": []
    },
    {
      "cell_type": "code",
      "metadata": {
        "id": "igUCTy0e-y82"
      },
      "source": [
        "# test_video_path = 'IVP-PROJECT-TEAM15/test_videos/astronaut_crew.mp4'\n",
        "# test_video = Video.from_file(test_video_path)\n",
        "# test_video"
      ],
      "execution_count": null,
      "outputs": []
    },
    {
      "cell_type": "code",
      "metadata": {
        "id": "3ZyrnxBI1wP_"
      },
      "source": [
        "# fov_video_path = foveated_video_processing(test_video_path, key=5, visual_angle=2)\n",
        "# fov_video_test = Video.from_file(fov_video_path)\n",
        "# fov_video_test"
      ],
      "execution_count": null,
      "outputs": []
    },
    {
      "cell_type": "code",
      "metadata": {
        "id": "whWL_eOagpL3"
      },
      "source": [
        "# avg_video_velocity('IVP-PROJECT-TEAM15/test_videos/astronaut_crew.mp4')"
      ],
      "execution_count": null,
      "outputs": []
    }
  ]
}